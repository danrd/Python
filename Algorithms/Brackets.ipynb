{
 "cells": [
  {
   "cell_type": "code",
   "execution_count": null,
   "metadata": {},
   "outputs": [],
   "source": [
    "# Скобки в коде\n",
    "# Проверить, правильно ли расставлены скобки в данном коде.\n",
    "# Вход. Исходный код программы.\n",
    "# Выход. Проверить, верно ли расставлены скобки. Если нет - выдать индекс первой ошибки.\n",
    "# нумерация индексов для вывода ошибки с 1, а не 0"
   ]
  },
  {
   "cell_type": "code",
   "execution_count": null,
   "metadata": {},
   "outputs": [],
   "source": [
    "inp = input().rstrip()\n",
    "stack = []\n",
    "memory = []\n",
    "wrong = -1\n",
    "\n",
    "# классифицируем возможные типы скобок\n",
    "lbrack = (\"(\", \"[\", \"{\")\n",
    "rbrack = (\")\", \"]\", \"}\")\n",
    "\n",
    "for i in range(len(inp)):\n",
    "    if inp[i] in lbrack: # если попалась левая скобка - доабвляем в стек и запоминаем индекс \n",
    "        stack.append(inp[i])\n",
    "        memory.append(i)\n",
    "    elif inp[i] in rbrack: # если попалась правая скобка, а стек пустой, то запоминаем позицию ошибки и выходим из цикла\n",
    "        if len(stack) == 0:\n",
    "            wrong = i + 1\n",
    "            stack.append(inp[i])\n",
    "            break\n",
    "        else: # если правая скобка сходится по типу с верхней в стеке, то извлекаем крайние элементы стека и памяти \n",
    "            if rbrack.index(inp[i]) == lbrack.index(stack[-1]):\n",
    "                stack.pop()\n",
    "                memory.pop()\n",
    "            else: # если не сходится - запоминаем позицию ошибки и выходим из цикла\n",
    "                wrong = i + 1\n",
    "                stack.append(inp[i])\n",
    "                break\n",
    "\n",
    "if stack == []: # если после прохода стек пустой - успех\n",
    "    print(\"Success\")\n",
    "elif wrong != -1: # если была неправильная правая скобка - выводим ее позицию\n",
    "    print(wrong)\n",
    "elif stack[0] in lbrack: # если стек не пустой - выводим запомненный номер первой левой в стеке\n",
    "    print(memory[0]+1)"
   ]
  }
 ],
 "metadata": {
  "kernelspec": {
   "display_name": "Python 3",
   "language": "python",
   "name": "python3"
  },
  "language_info": {
   "codemirror_mode": {
    "name": "ipython",
    "version": 3
   },
   "file_extension": ".py",
   "mimetype": "text/x-python",
   "name": "python",
   "nbconvert_exporter": "python",
   "pygments_lexer": "ipython3",
   "version": "3.8.5"
  }
 },
 "nbformat": 4,
 "nbformat_minor": 4
}
