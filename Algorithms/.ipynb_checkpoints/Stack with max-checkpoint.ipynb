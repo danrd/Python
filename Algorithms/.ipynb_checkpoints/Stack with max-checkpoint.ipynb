{
 "cells": [
  {
   "cell_type": "code",
   "execution_count": null,
   "metadata": {},
   "outputs": [],
   "source": [
    "\"\"\"\n",
    "Стек с поддержкой максимума\n",
    "Реализовать стек с поддержкой операций push, pop и max.\n",
    "Вход. Число запросов и последовательность запросов push, pop и max .\n",
    "Выход. Для каждого запроса max вывести максимальное\n",
    "число, находящееся на стеке.\n",
    "\"\"\""
   ]
  },
  {
   "cell_type": "code",
   "execution_count": 4,
   "metadata": {},
   "outputs": [
    {
     "name": "stdout",
     "output_type": "stream",
     "text": [
      "2\n",
      "push 4\n",
      "max\n",
      "4\n"
     ]
    }
   ],
   "source": [
    "class stack (list):\n",
    "    def __init__ (self):\n",
    "        self.elem = []\n",
    "        self.max_list = [] # ведем список максимумов для операции pop\n",
    "        self.max = 0\n",
    "        \n",
    "    def append (self, element):\n",
    "        self.elem.append(element)\n",
    "        if element > self.max:\n",
    "            self.max = element\n",
    "            self.max_list.append(element)\n",
    "        else:\n",
    "            self.max_list.append(self.max)\n",
    "    \n",
    "    def pop (self):\n",
    "        self.max_list.pop()\n",
    "        if self.elem.pop() == self.max:\n",
    "            self.max = self.max_list[-1] # восстанавливаем следующий максимальный элемент\n",
    "        \n",
    "n = int(input())\n",
    "stack = stack()\n",
    "\n",
    "for _ in range(n):\n",
    "    command = input()\n",
    "    if command[0:2] == \"pu\":\n",
    "        stack.append(int(command.split()[1]))\n",
    "    elif command[0:2] == \"po\":\n",
    "        stack.pop()\n",
    "    elif command[0:2] == \"ma\":\n",
    "        print(stack.max)"
   ]
  }
 ],
 "metadata": {
  "kernelspec": {
   "display_name": "Python 3",
   "language": "python",
   "name": "python3"
  },
  "language_info": {
   "codemirror_mode": {
    "name": "ipython",
    "version": 3
   },
   "file_extension": ".py",
   "mimetype": "text/x-python",
   "name": "python",
   "nbconvert_exporter": "python",
   "pygments_lexer": "ipython3",
   "version": "3.8.5"
  }
 },
 "nbformat": 4,
 "nbformat_minor": 4
}
