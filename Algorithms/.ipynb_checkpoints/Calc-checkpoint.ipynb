{
 "cells": [
  {
   "cell_type": "code",
   "execution_count": null,
   "metadata": {},
   "outputs": [],
   "source": [
    "# Калькулятор, который умеет выполнять всего три операции с текущим числом x: \n",
    "# заменить x на 2x, 3x или x+1. \n",
    "# По данному целому числу определить минимальное число операций k, необходимое, чтобы получить n из 1. \n",
    "# Вывести k и последовательность промежуточных чисел."
   ]
  },
  {
   "cell_type": "code",
   "execution_count": 11,
   "metadata": {},
   "outputs": [
    {
     "name": "stdout",
     "output_type": "stream",
     "text": [
      "78\n",
      "6\n",
      "1 2 4 12 13 26 78\n"
     ]
    }
   ],
   "source": [
    "inp = int(input())\n",
    "# инициализируем переменные для хранения всех результатов\n",
    "res = []\n",
    "series = []\n",
    "def rec(current, target=1, k=0, cash=[]): # рекурсивная функция, которая подсчитывает число шагов и запоминает промежуточные значения\n",
    "    if current == target: \n",
    "        res.append(k)\n",
    "        series.append(cash)\n",
    "        return \n",
    "    else:\n",
    "        if current % 3 == 0: # если есть возможность делить на 3, то он считается в первую очередь  \n",
    "            rec(current//3, target, k+1, cash + [current//3])\n",
    "        elif (current-1) % 3 == 0: # если можно уменьшить на 1 и поделить на 3, то этот вариант запускается параллельно со случаем, когда можно поделить на 2\n",
    "            if current % 2 == 0:\n",
    "                rec(current//2, target, k+1, cash + [current//2])   \n",
    "                rec(current-1, target, k+1, cash + [current-1])  \n",
    "            else:\n",
    "                rec(current-1, target, k+1, cash + [current-1])  \n",
    "        elif current % 2 == 0: # по остаточному принципу считаем вариант с делением на 2 \n",
    "            rec(current // 2, target, k+1, cash + [current//2])          \n",
    "        else: # и худший с точки зрения числа шагов вариант с вычитанием единицы\n",
    "            rec(current-1, target, k+1, cash+[current-1])  \n",
    "          \n",
    "rec(inp)\n",
    "minimum = min(res) # ищем лучшее решение по числу шагов\n",
    "index = res.index(minimum) # а также его позицию для отбора промежуточных значений\n",
    "print(minimum)\n",
    "print(*reversed([inp] + series[index]))"
   ]
  },
  {
   "cell_type": "code",
   "execution_count": null,
   "metadata": {},
   "outputs": [],
   "source": []
  }
 ],
 "metadata": {
  "kernelspec": {
   "display_name": "Python 3",
   "language": "python",
   "name": "python3"
  },
  "language_info": {
   "codemirror_mode": {
    "name": "ipython",
    "version": 3
   },
   "file_extension": ".py",
   "mimetype": "text/x-python",
   "name": "python",
   "nbconvert_exporter": "python",
   "pygments_lexer": "ipython3",
   "version": "3.8.5"
  }
 },
 "nbformat": 4,
 "nbformat_minor": 4
}
