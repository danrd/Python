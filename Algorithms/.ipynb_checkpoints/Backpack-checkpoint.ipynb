{
 "cells": [
  {
   "cell_type": "code",
   "execution_count": null,
   "metadata": {},
   "outputs": [],
   "source": [
    "#Первая строка содержит количество предметов и вместимость рюкзака, каждая из следующих n строк задаёт стоимость и объем предмета.\n",
    "#Требуется вывести максимальную стоимость частей предметов (от каждого предмета можно отделить любую часть, стоимость и объём при этом пропорционально уменьшатся), помещающихся в данный рюкзак, с точностью не менее трёх знаков после запятой"
   ]
  },
  {
   "cell_type": "code",
   "execution_count": null,
   "metadata": {},
   "outputs": [],
   "source": [
    "rucksack = []\n",
    "curval = 0\n",
    "curvol = 0\n",
    "part = 0\n",
    "n, v = map(int, input().split())\n",
    "\n",
    "for _ in range(n):\n",
    "    rucksack.append(list(map(int, input().split())))\n",
    "    \n",
    "rucksack = sorted(rucksack, key = lambda x:(x[0]/x[1]), reverse=True) # сортируем объекты по соотношению стоимости на объем для жадного перебора\n",
    "\n",
    "for obj in rucksack: # если объект помещается целиком - прибавляем его ценность и вычитаем объем, если только частично - прибавляем долю ценности и выходим из цикла\n",
    "    if obj[1] + curvol <= v:\n",
    "        curval += obj[0]\n",
    "        v += -obj[1]\n",
    "    else:\n",
    "        part = (v-curvol) / obj[1]\n",
    "        curval += obj[0] * part\n",
    "        break\n",
    "        \n",
    "print('{:.3f}'.format(curval))"
   ]
  },
  {
   "cell_type": "code",
   "execution_count": null,
   "metadata": {},
   "outputs": [],
   "source": [
    "# Стандартная реализация рюкзака\n",
    "V, n = map(int, input().split())\n",
    "ingot = list(map(int, input().split()))\n",
    "ks = [[0 for j in range(V+1)] for i in range(n+1)]\n",
    "for i in range(1, n+1):\n",
    "    for v in range(1, V+1):\n",
    "        if ingot[i-1]<=v:\n",
    "            ks[i][v] = max(ks[i-1][v], ks[i-1][v-ingot[i-1]]+ingot[i-1])\n",
    "        else:\n",
    "            ks[i][v] = ks[i-1][v]\n",
    "print(ks[n][V])"
   ]
  }
 ],
 "metadata": {
  "kernelspec": {
   "display_name": "Python 3",
   "language": "python",
   "name": "python3"
  },
  "language_info": {
   "codemirror_mode": {
    "name": "ipython",
    "version": 3
   },
   "file_extension": ".py",
   "mimetype": "text/x-python",
   "name": "python",
   "nbconvert_exporter": "python",
   "pygments_lexer": "ipython3",
   "version": "3.8.5"
  }
 },
 "nbformat": 4,
 "nbformat_minor": 4
}
