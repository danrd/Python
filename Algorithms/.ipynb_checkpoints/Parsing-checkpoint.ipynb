{
 "cells": [
  {
   "cell_type": "code",
   "execution_count": null,
   "metadata": {},
   "outputs": [],
   "source": [
    "\"\"\"\n",
    "Рассмотрим два HTML-документа A и B.\n",
    "Из A можно перейти в B за один переход, если в A есть ссылка на B, т. е. \n",
    "внутри A есть тег <a href=\"B\">, возможно с дополнительными параметрами внутри тега.\n",
    "Из A можно перейти в B за два перехода если существует такой документ C, \n",
    "что из A в C можно перейти за один переход и из C в B можно перейти за один переход.\n",
    "\n",
    "Вашей программе на вход подаются две строки, содержащие url двух документов A и B.\n",
    "Выведите Yes, если из A в B можно перейти за два перехода, иначе выведите No.\n",
    "\n",
    "Обратите внимание на то, что не все ссылки внутри HTML документа могут вести на существующие HTML документы.\n",
    "\"\"\"\n",
    "\n",
    "Sample Input 1:\n",
    "\n",
    "https://stepic.org/media/attachments/lesson/24472/sample0.html\n",
    "https://stepic.org/media/attachments/lesson/24472/sample2.html\n",
    "\n",
    "Sample Output 1:\n",
    "Yes\n",
    "\n",
    "Sample Input 2:\n",
    "https://stepic.org/media/attachments/lesson/24472/sample0.html\n",
    "https://stepic.org/media/attachments/lesson/24472/sample1.html\n",
    "\n",
    "Sample Output 2:\n",
    "No\n",
    "\n",
    "Sample Input 3:\n",
    "https://stepic.org/media/attachments/lesson/24472/sample1.html\n",
    "https://stepic.org/media/attachments/lesson/24472/sample2.html\n",
    "\n",
    "Sample Output 3:\n",
    "Yes"
   ]
  },
  {
   "cell_type": "code",
   "execution_count": 5,
   "metadata": {},
   "outputs": [
    {
     "name": "stdout",
     "output_type": "stream",
     "text": [
      "https://stepic.org/media/attachments/lesson/24472/sample0.html\n",
      "https://stepic.org/media/attachments/lesson/24472/sample1.html\n",
      "No\n"
     ]
    }
   ],
   "source": [
    "import requests as req\n",
    "from bs4 import BeautifulSoup\n",
    "\n",
    "url_A = input().rstrip()\n",
    "url_B = input().rstrip()\n",
    "flag = \"No\"\n",
    "response = req.get(url_A)\n",
    "\n",
    "if response.status_code != 200: # если запрос не успешен\n",
    "    print(flag)\n",
    "else:\n",
    "    soup = BeautifulSoup(response.text, 'lxml')\n",
    "    for link in soup.find_all('a'): # парсером lxml ищем тэги гиперссылки 'a' \n",
    "        response = req.get(link.get('href')) # и переходим по каждому адресу\n",
    "        if response.status_code != 200:\n",
    "            continue\n",
    "        soup = BeautifulSoup(response.text, 'lxml') # парсим все ссылки и ищем совпадение\n",
    "        for link in soup.find_all('a'):\n",
    "            if link.get('href') == url_B:\n",
    "                flag = \"Yes\"\n",
    "                break\n",
    "        if flag == \"Yes\":\n",
    "            break\n",
    "    print(flag)"
   ]
  }
 ],
 "metadata": {
  "kernelspec": {
   "display_name": "Python 3",
   "language": "python",
   "name": "python3"
  },
  "language_info": {
   "codemirror_mode": {
    "name": "ipython",
    "version": 3
   },
   "file_extension": ".py",
   "mimetype": "text/x-python",
   "name": "python",
   "nbconvert_exporter": "python",
   "pygments_lexer": "ipython3",
   "version": "3.8.5"
  }
 },
 "nbformat": 4,
 "nbformat_minor": 4
}
