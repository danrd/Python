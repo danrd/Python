{
 "cells": [
  {
   "cell_type": "code",
   "execution_count": null,
   "metadata": {},
   "outputs": [],
   "source": [
    "#В первой строке даны целое число n и массив А из n различных натуральных чисел в порядке возрастания, \n",
    "#во второй — целое число k и k натуральных чисел b_i. Для каждого i от 1 до k необходимо вывести индекс, для которого A[j]=b_i, или −1, если такого j нет"
   ]
  },
  {
   "cell_type": "code",
   "execution_count": null,
   "metadata": {},
   "outputs": [],
   "source": [
    "n, *A = map(int, input().split())\n",
    "m, *B = map(int, input().split())\n",
    "indexes = []\n",
    "\n",
    "def bin_search(num, list, n):\n",
    "    if n == 1: #крайний случай, если в искомом массиве 1 элемент\n",
    "        if num == list[0]:\n",
    "            return list[0]\n",
    "        else:\n",
    "            return -1\n",
    "    left = 0\n",
    "    right = len(list) - 1\n",
    "    while right >= left:\n",
    "        mid = (left+right) // 2        \n",
    "        if num > list[mid]:\n",
    "            left = mid + 1\n",
    "        elif num < list[mid]:\n",
    "            right = mid - 1\n",
    "        else:\n",
    "            return mid + 1\n",
    "    return -1\n",
    "\n",
    "for num in B:\n",
    "    indexes.append(bin_search(num, A, n))\n",
    "\n",
    "print(*indexes)"
   ]
  }
 ],
 "metadata": {
  "kernelspec": {
   "display_name": "Python 3",
   "language": "python",
   "name": "python3"
  },
  "language_info": {
   "codemirror_mode": {
    "name": "ipython",
    "version": 3
   },
   "file_extension": ".py",
   "mimetype": "text/x-python",
   "name": "python",
   "nbconvert_exporter": "python",
   "pygments_lexer": "ipython3",
   "version": "3.8.5"
  }
 },
 "nbformat": 4,
 "nbformat_minor": 4
}
