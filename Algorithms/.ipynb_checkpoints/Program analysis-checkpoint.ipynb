{
 "cells": [
  {
   "cell_type": "code",
   "execution_count": null,
   "metadata": {},
   "outputs": [],
   "source": [
    "\"\"\"\n",
    "Система равенств и неравенств\n",
    "Проверить, можно ли присвоить переменным целые значения, чтобы\n",
    "выполнить заданные равенства вида xi = xj и неравенства вида xp <> xq.\n",
    "Вход. Число переменных n, а также список равенств вида\n",
    "xi = xj и неравенства вида xp <> xq.\n",
    "Выход. Проверить, выполнима ли данная система.\n",
    "\"\"\""
   ]
  },
  {
   "cell_type": "code",
   "execution_count": null,
   "metadata": {},
   "outputs": [],
   "source": [
    "# используем систему непересекающихся множеств\n",
    "class DSU:\n",
    "    def __init__(self):\n",
    "        self.parent = {}\n",
    "    \n",
    "    def make_set(self, v):\n",
    "        self.parent[v] = v\n",
    "        \n",
    "    def find_set(self, v):\n",
    "        if (v == self.parent[v]):\n",
    "            return v\n",
    "        self.parent[v] = self.find_set(self.parent[v])\n",
    "        return self.find_set(self.parent[v])\n",
    "        \n",
    "    def union_sets (self, a, b):\n",
    "        a = self.find_set(a)\n",
    "        b = self.find_set(b)\n",
    "        if (a!=b):\n",
    "            self.parent[b] = a\n",
    "            \n",
    "n, e, d = map(int, input().split())\n",
    "dsu = DSU()\n",
    "flag = 1\n",
    "\n",
    "for i in range(n):\n",
    "    dsu.make_set(i+1)\n",
    "    \n",
    "for _ in range(e):\n",
    "    dest, source = map(int, input().split())\n",
    "    dsu.union_sets(dest, source)\n",
    "\n",
    "for _ in range(d):\n",
    "    dest, source = map(int, input().split())    \n",
    "    if dsu.find_set(dest) == dsu.find_set(source):\n",
    "        flag = 0\n",
    "        \n",
    "print(flag)"
   ]
  }
 ],
 "metadata": {
  "kernelspec": {
   "display_name": "Python 3",
   "language": "python",
   "name": "python3"
  },
  "language_info": {
   "codemirror_mode": {
    "name": "ipython",
    "version": 3
   },
   "file_extension": ".py",
   "mimetype": "text/x-python",
   "name": "python",
   "nbconvert_exporter": "python",
   "pygments_lexer": "ipython3",
   "version": "3.8.5"
  }
 },
 "nbformat": 4,
 "nbformat_minor": 4
}
