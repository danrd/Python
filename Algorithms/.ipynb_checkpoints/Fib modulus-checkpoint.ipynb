{
 "cells": [
  {
   "cell_type": "code",
   "execution_count": null,
   "metadata": {},
   "outputs": [],
   "source": [
    "\"\"\" \n",
    "Даны целые числа, необходимо найти остаток от деления n-го числа Фибоначчи на m.\n",
    "\"\"\" "
   ]
  },
  {
   "cell_type": "code",
   "execution_count": 2,
   "metadata": {},
   "outputs": [
    {
     "name": "stdout",
     "output_type": "stream",
     "text": [
      "7 4\n",
      "1\n"
     ]
    }
   ],
   "source": [
    "def fib_mod(n, m): # решение основывается на периоде Пизано\n",
    "    div = [0, 1, 1] # задаем начальные значения\n",
    "    prev, pprev = 1, 1 # запоминаем 2 элемента\n",
    "    while div[:2] != div[-2:]: # покуда остатки не начнут повторяться\n",
    "        prev, pprev = (prev+pprev) % m, prev # для остатков тоже будет сохраняться логика последовательности фибоначчи\n",
    "        div.append(prev)\n",
    "        if div[:2] == div[-2:]: \n",
    "            c = n % (len(div) - 2) # номер нужного остатка в списке: текущая длина списка за вычетом повторяющихся элементов \n",
    "            return div[c]\n",
    "    return div[-1]\n",
    "\n",
    "def main():\n",
    "    n, m = map(int, input().split())\n",
    "    print(fib_mod(n, m))\n",
    "\n",
    "if __name__ == \"__main__\":\n",
    "    main()"
   ]
  }
 ],
 "metadata": {
  "kernelspec": {
   "display_name": "Python 3",
   "language": "python",
   "name": "python3"
  },
  "language_info": {
   "codemirror_mode": {
    "name": "ipython",
    "version": 3
   },
   "file_extension": ".py",
   "mimetype": "text/x-python",
   "name": "python",
   "nbconvert_exporter": "python",
   "pygments_lexer": "ipython3",
   "version": "3.8.5"
  }
 },
 "nbformat": 4,
 "nbformat_minor": 4
}
