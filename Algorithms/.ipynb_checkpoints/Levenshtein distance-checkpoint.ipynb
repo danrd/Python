{
 "cells": [
  {
   "cell_type": "code",
   "execution_count": null,
   "metadata": {},
   "outputs": [],
   "source": [
    "\"\"\" Функция для нахождения расстояния Левенштайна - минимальное количество односимвольных операций\n",
    "(вставки, удаления, замены), необходимых для превращения одной последовательности символов в другую\n",
    "\"\"\""
   ]
  },
  {
   "cell_type": "code",
   "execution_count": 5,
   "metadata": {},
   "outputs": [
    {
     "name": "stdout",
     "output_type": "stream",
     "text": [
      "ggjftjhgft\n",
      "nbghyggf\n",
      "8\n"
     ]
    }
   ],
   "source": [
    "word_1 = input()\n",
    "length_1 = len(word_1)\n",
    "word_2 = input()\n",
    "length_2 = len(word_2)\n",
    "\n",
    "# инициализируем матрицу расстояний для входных слов\n",
    "matrix = [[0 for i in range(length_1+1)] for j in range(length_2+1)] \n",
    "\n",
    "for i in range(length_1+1):\n",
    "    matrix[0][i] = i\n",
    "    \n",
    "for j in range(length_2+1):\n",
    "    matrix[j][0] = j\n",
    "\n",
    "# заполняем остальную часть матрицы    \n",
    "for i in range(1, length_2+1):\n",
    "    for j in range(1, length_1+1):\n",
    "        compar_flag = (word_1[j-1] != word_2[i-1]) # сравнение крайних букв\n",
    "        matrix[i][j] = min(matrix[i-1][j]+1, matrix[i][j-1]+1, matrix[i-1][j-1]+compar_flag) # сравниваем что меньше по числу замен: расширить оба слова на 1 символ или только какое-то одно, гарантированно получая замену   \n",
    "        \n",
    "print(matrix[length_2][length_1])"
   ]
  }
 ],
 "metadata": {
  "kernelspec": {
   "display_name": "Python 3",
   "language": "python",
   "name": "python3"
  },
  "language_info": {
   "codemirror_mode": {
    "name": "ipython",
    "version": 3
   },
   "file_extension": ".py",
   "mimetype": "text/x-python",
   "name": "python",
   "nbconvert_exporter": "python",
   "pygments_lexer": "ipython3",
   "version": "3.8.5"
  }
 },
 "nbformat": 4,
 "nbformat_minor": 4
}
