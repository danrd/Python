{
 "cells": [
  {
   "cell_type": "code",
   "execution_count": null,
   "metadata": {},
   "outputs": [],
   "source": [
    "# Обработка сетевых пакетов\n",
    "# Реализовать обработчик сетевых пакетов.\n",
    "# Вход. Размер буфера size и число пакетов n, а также две последовательности arrival_1, . . . , arrival_n и\n",
    "# duration_1, . . . , duration_n, обозначающих время поступления и длительность обработки n пакетов.\n",
    "# Выход. Для каждого из данных n пакетов необходимо вывести время начала его обработки или −1, если пакет\n",
    "# не был обработан (это происходит в случае, когда пакет поступает в момент, когда в буфере компьютера уже находится size пакетов)."
   ]
  },
  {
   "cell_type": "code",
   "execution_count": 4,
   "metadata": {},
   "outputs": [
    {
     "name": "stdout",
     "output_type": "stream",
     "text": [
      "1 3\n",
      "2 2\n",
      "2\n",
      "2 3\n",
      "-1\n",
      "5 5\n",
      "5\n"
     ]
    }
   ],
   "source": [
    "import collections\n",
    "\n",
    "size, n = map(int, input().split())\n",
    "init = [-1 for i in range(size)]\n",
    "deq = collections.deque(init, maxlen=size) # обрабатываем пакеты с помощью двусторонней очереди, где храним время окончания обработки пакета\n",
    "time = 0\n",
    "\n",
    "while (n>0):\n",
    "    packet = list(map(int, input().split()))\n",
    "    n += -1\n",
    "    if packet[0] < deq[-1]: # если поступление позже самого раннего окончания обработки крайнего пакета\n",
    "        print(-1)\n",
    "    else: \n",
    "        time = deq[0]\n",
    "        deq.pop()\n",
    "        if packet[0] > time: # если поступление позже окончания обработки последнего пакета\n",
    "            print(packet[0]) # то печатаем его время поступления\n",
    "            deq.appendleft(packet[0]+packet[1]) # и добавляем в очередь с учетом длительности обработки            \n",
    "        else:\n",
    "            print(time) # иначе ждем окончания обработки\n",
    "            packet[0] = time\n",
    "            deq.appendleft(packet[0]+packet[1])"
   ]
  }
 ],
 "metadata": {
  "kernelspec": {
   "display_name": "Python 3",
   "language": "python",
   "name": "python3"
  },
  "language_info": {
   "codemirror_mode": {
    "name": "ipython",
    "version": 3
   },
   "file_extension": ".py",
   "mimetype": "text/x-python",
   "name": "python",
   "nbconvert_exporter": "python",
   "pygments_lexer": "ipython3",
   "version": "3.8.5"
  }
 },
 "nbformat": 4,
 "nbformat_minor": 4
}
