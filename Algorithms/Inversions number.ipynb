{
 "cells": [
  {
   "cell_type": "code",
   "execution_count": null,
   "metadata": {},
   "outputs": [],
   "source": [
    "\"\"\"\n",
    "Первая строка содержит число, вторая — массив A, содержащий натуральные числа. \n",
    "Необходимо посчитать число инверсий в массиве. \n",
    "\"\"\""
   ]
  },
  {
   "cell_type": "code",
   "execution_count": 5,
   "metadata": {},
   "outputs": [
    {
     "name": "stdout",
     "output_type": "stream",
     "text": [
      "5\n",
      "5 4 3 2 1\n",
      "10\n"
     ]
    }
   ],
   "source": [
    "##### from array import * # используем array для быстродействия\n",
    "\n",
    "def main():\n",
    "    n = int(input())\n",
    "    arr = array(\"i\", list(map(int, input().split()))) # массив типа int\n",
    "    inversions = 0\n",
    "    offset = 0\n",
    "    totallen = n*2 # задаем сверху число подмножеств с элементами\n",
    "    parts = [[] for i in range(totallen)]  #и инициализируем список списков соответствующего размера\n",
    "\n",
    "    nparts = n//2+n%2 # считаем количество пар элементов\n",
    "    if n%2:\n",
    "        arr.insert(0, 0) \n",
    "        \n",
    "    for i in range(nparts): # делим на пары и сразу считаем инверсии в парах\n",
    "        parts[i] = [arr[i*2:i*2+2], 2] # ведем в списке число элементов на второй позиции\n",
    "        if parts[i][0][0] > parts[i][0][1]:\n",
    "            parts[i][0][0], parts[i][0][1] = parts[i][0][1], parts[i][0][0]\n",
    "            inversions += 1\n",
    "    \n",
    "    for i in range(totallen):\n",
    "        pos = nparts + i # шагаем по пустым спискам, инициализированным ранее \n",
    "        if parts[i*2+1-offset] == []: # если не с чем объединять последний список на текущей отметке - выход из цикла\n",
    "            break\n",
    "        len_left = parts[i*2-offset][1]\n",
    "        len_right = parts[i*2+1-offset][1]\n",
    "        if len_left < len_right: # если для последнего кусочка не находится равной части, то закончили проход по текущему размеру - меньший элемент просто переносим в конец\n",
    "            parts[pos] = parts[i*2-offset]\n",
    "            offset += 1 # при этом увеличиваем сдвиг, чтобы в следующий проход начинать с бОльшего по числу элементов кусочка из прошлого\n",
    "            continue\n",
    "        else: \n",
    "            left = parts[i*2-offset][0]\n",
    "            right = parts[i*2+1-offset][0]\n",
    "        len_union = len_left + len_right\n",
    "        union = [0 for i in range(len_union)]\n",
    "        pointer_1 = 0 # инициализируем указатели для прохода по кусочкам\n",
    "        pointer_2 = 0\n",
    "        for j in range(len_union):\n",
    "            try: \n",
    "                \"\"\" если элемент на позиции левого указателя в левом списке больше элемента на позиции правого указателя в правом списке, \n",
    "                то на текущую позицию в объединенном списке ставим меньший элемент и записываем число инверсий, равное числу оставшихся \n",
    "                непросмотренных элементов в левом списке (элементы правее в левом списке еще больше по построению)\n",
    "                \"\"\"\n",
    "                if left[pointer_1] > right[pointer_2]: \n",
    "                    union[pointer_1+pointer_2] = right[pointer_2]\n",
    "                    pointer_2 += 1\n",
    "                    inversions += (len_left-pointer_1)\n",
    "                else: # иначе берем из левого списка и сдвигаем указатель\n",
    "                    union[pointer_1+pointer_2] = left[pointer_1]\n",
    "                    pointer_1 += 1  \n",
    "            except LookupError: # если просмотрим весь список, то выдаст ошибку\n",
    "                if pointer_1 == len_left: # если это был левый, то добавляем в объединенный список все оставшиеся элементы из правого\n",
    "                    union[(pointer_1+pointer_2):len_union] = right[pointer_2:len_right]\n",
    "                    break\n",
    "                else:\n",
    "                    union[(pointer_1+pointer_2):len_union] = left[pointer_1:len_left]\n",
    "                    break\n",
    "\n",
    "        parts[pos] = [union, len_union]\n",
    "\n",
    "    print(inversions)\n",
    "    \n",
    "main()  "
   ]
  }
 ],
 "metadata": {
  "kernelspec": {
   "display_name": "Python 3",
   "language": "python",
   "name": "python3"
  },
  "language_info": {
   "codemirror_mode": {
    "name": "ipython",
    "version": 3
   },
   "file_extension": ".py",
   "mimetype": "text/x-python",
   "name": "python",
   "nbconvert_exporter": "python",
   "pygments_lexer": "ipython3",
   "version": "3.8.5"
  }
 },
 "nbformat": 4,
 "nbformat_minor": 4
}
