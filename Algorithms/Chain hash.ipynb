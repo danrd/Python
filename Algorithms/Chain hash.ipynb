{
 "cells": [
  {
   "cell_type": "code",
   "execution_count": null,
   "metadata": {},
   "outputs": [],
   "source": [
    "# Формат входа. Первая строка размер хеш-таблицы m. \n",
    "#Следующая строка содержит количество запросов n. Каждая из последующих n строк содержит запрос одного из перечисленных четырёх типов:\n",
    "    \n",
    "# • add string: добавить строку string в таблицу. Если такая\n",
    "# строка уже есть, проигнорировать запрос;\n",
    "# • del string: удалить строку string из таблицы. Если такой\n",
    "# строки нет, проигнорировать запрос;\n",
    "# • find string: вывести «yes» или «no» в зависимости от того,\n",
    "# есть в таблице строка string или нет;\n",
    "# • check i: вывести i-й список (используя пробел в качестве разделителя); если i-й список пуст, вывести пустую строку.\n",
    "    \n",
    "# Формат выхода. Для каждого из запросов типа find и check выведите результат в отдельной строке."
   ]
  },
  {
   "cell_type": "code",
   "execution_count": null,
   "metadata": {},
   "outputs": [],
   "source": [
    "import math\n",
    "import collections\n",
    "\n",
    "m = int(input())\n",
    "n = int(input())\n",
    "dic = {}\n",
    "\n",
    "#задаем константы для хеширования\n",
    "x = 263\n",
    "p = 1000000007\n",
    "\n",
    "def hash_func(S, m): # юникод-значение символа умножается на х в соответствующей степени, результат берется по модулю и суммируется по всем символамт строки\n",
    "    hesh = 0\n",
    "    current = 0\n",
    "    for i in range(len(S)):\n",
    "        current = (ord(S[i])*pow(x, i)) % p\n",
    "        hesh += current\n",
    "    return ((hesh)%p) % m # общая сумма по символам берется по заданным модулям\n",
    "\n",
    "for _ in range(n):\n",
    "    command = input().split()\n",
    "    if command[0] == \"check\":\n",
    "        try:\n",
    "            print(*dic[int(command[1])])\n",
    "        except LookupError:\n",
    "            print(\"\")\n",
    "    hesh = hesh_func(command[1], m) # хешируем для поиска или добавления\n",
    "    if command[0] == \"add\":\n",
    "        if hesh not in dic.keys():\n",
    "            dic[hesh] = collections.deque()\n",
    "            dic[hesh].appendleft(command[1])\n",
    "        else:\n",
    "            if command[1] not in dic[hesh]:\n",
    "                dic[hesh].appendleft(command[1])\n",
    "    elif command[0] == \"find\":\n",
    "        try:\n",
    "            if command[1] in dic[hesh]:\n",
    "                print(\"yes\")\n",
    "            else:\n",
    "                print(\"no\")\n",
    "        except LookupError:\n",
    "            print(\"no\")\n",
    "    elif command[0] == \"del\":\n",
    "        try:\n",
    "            if command[1] in dic[hesh]:\n",
    "                if len(dic[hesh])==1: # если только 1 элемент, то заменяем пустой двусторонней очередью\n",
    "                    dic[hesh] = collections.deque()\n",
    "                else:\n",
    "                    dic[hesh].remove(command[1])      \n",
    "        except LookupError:\n",
    "            pass   "
   ]
  }
 ],
 "metadata": {
  "kernelspec": {
   "display_name": "Python 3",
   "language": "python",
   "name": "python3"
  },
  "language_info": {
   "codemirror_mode": {
    "name": "ipython",
    "version": 3
   },
   "file_extension": ".py",
   "mimetype": "text/x-python",
   "name": "python",
   "nbconvert_exporter": "python",
   "pygments_lexer": "ipython3",
   "version": "3.8.5"
  }
 },
 "nbformat": 4,
 "nbformat_minor": 4
}
