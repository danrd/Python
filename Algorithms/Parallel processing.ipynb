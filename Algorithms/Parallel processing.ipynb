{
 "cells": [
  {
   "cell_type": "code",
   "execution_count": null,
   "metadata": {},
   "outputs": [],
   "source": [
    "\"\"\"\n",
    "Параллельная обработка\n",
    "По данным n процессорам и m задач определите, для каждой из задач,\n",
    "каким процессором она будет обработана.\n",
    "Вход. Число процессоров n и последовательность чисел\n",
    "t_0, . . . , t_m−1, где t_i — время, необходимое на обработку i-й задачи.\n",
    "Выход. Для каждой задачи определите, какой процессор\n",
    "и в какое время начнёт её обрабатывать, предполагая, что\n",
    "каждая задача поступает на обработку первому освободившемуся процессору.\n",
    "\"\"\""
   ]
  },
  {
   "cell_type": "code",
   "execution_count": 7,
   "metadata": {},
   "outputs": [
    {
     "name": "stdout",
     "output_type": "stream",
     "text": [
      "4 10\n",
      "1 2 3 4 5 6 7 8 9 10\n",
      "0 0\n",
      "1 0\n",
      "2 0\n",
      "3 0\n",
      "0 1\n",
      "1 2\n",
      "2 3\n",
      "3 4\n",
      "0 6\n",
      "1 8\n"
     ]
    }
   ],
   "source": [
    "class MinHeap: # минкуча с нумерацией элементов с 0\n",
    "    def __init__(self):\n",
    "        self.list = []\n",
    "        self.size = 0\n",
    "        self.counter = 0\n",
    "        self.cash = []\n",
    "        \n",
    "    def Insert(self, k): # вставляем элемент в конец и просеиваем\n",
    "        self.list.append(k)\n",
    "        self.size += 1\n",
    "        self.sift_up(self.size-1)\n",
    " \n",
    "    def sift_up(self, i):\n",
    "        while (i+1) // 2 > 0: # покуда не доходим до индекса 0\n",
    "            if self.list[i] < self.list[(i-1)//2]: # сравниваем с предком и переставляем при необходимости\n",
    "                self.list[i], self.list[(i-1)//2] = self.list[(i-1)//2], self.list[i]\n",
    "            i = (i-1) // 2\n",
    "\n",
    "    def sift_down(self, i):\n",
    "        while (i*2+1) <= self.size - 1: # покуда есть хотя бы 1 потомок\n",
    "            mc = self.min_child(i) # ищем из них меньшего\n",
    "            if self.list[i] > self.list[mc]: # и меняем, если просеиваемый элемент больше\n",
    "                self.cash.append(sorted([i, mc]))\n",
    "                self.counter += 1\n",
    "                self.list[i], self.list[mc] = self.list[mc], self.list[i]\n",
    "            i = mc\n",
    "               \n",
    "    def min_child(self, i):\n",
    "        if (i*2) + 1 == self.size - 1: # если 1 наследник, то он меньший\n",
    "            return (i*2) + 1\n",
    "        else:\n",
    "            if self.list[i*2+1] < self.list[(i*2)+2]:\n",
    "                return (i*2) + 1\n",
    "            else:\n",
    "                return (i*2) + 2\n",
    " \n",
    "    def delete_min(self): # выводим и удаляем минимум\n",
    "        if len(self.list) == 0:\n",
    "            return 'Empty heap'\n",
    "        if len(self.list) == 1:\n",
    "            root = self.list[0]\n",
    "            self.list = []\n",
    "            self.size = 0            \n",
    "        else: # меняем корень и последний элемент\n",
    "            self.list[0], self.list[self.size-1] = self.list[self.size-1], self.list[0]\n",
    "            root = self.list.pop()   \n",
    "            self.size -= 1         \n",
    "            self.sift_down(0) # просеиваем новый корень вниз\n",
    "        return root\n",
    "    \n",
    "    def ExtractMin(self):\n",
    "        return self.list[0]\n",
    "    \n",
    "    def heapify(self):\n",
    "        for i in range(self.size//2-1, -1, -1): # просеиваем вниз, начиная с первого элемента с наследниками\n",
    "            self.sift_down(i)\n",
    "\n",
    "n, m = map(int, input().split())\n",
    "tasks = list(map(int, input().split()))\n",
    "queue = MinHeap() # очередь в виде минкучи\n",
    "queue.list = [[0, i] for i in range(n)] # инициализируем время на каждом процессоре\n",
    "queue.size = n\n",
    "\n",
    "for i in range(len(tasks)): # каждую новую задачу запускаем на процессоре из корня кучи\n",
    "    print(*reversed(queue.list[0]))\n",
    "    queue.list[0][0] = queue.list[0][0] + tasks[i] # после чего занимаем процессор на время выполнения задачи\n",
    "    queue.sift_down(0) # и просеиваем вниз процессор"
   ]
  }
 ],
 "metadata": {
  "kernelspec": {
   "display_name": "Python 3",
   "language": "python",
   "name": "python3"
  },
  "language_info": {
   "codemirror_mode": {
    "name": "ipython",
    "version": 3
   },
   "file_extension": ".py",
   "mimetype": "text/x-python",
   "name": "python",
   "nbconvert_exporter": "python",
   "pygments_lexer": "ipython3",
   "version": "3.8.5"
  }
 },
 "nbformat": 4,
 "nbformat_minor": 4
}
