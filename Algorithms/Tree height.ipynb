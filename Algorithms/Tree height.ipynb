{
 "cells": [
  {
   "cell_type": "code",
   "execution_count": null,
   "metadata": {},
   "outputs": [],
   "source": [
    "\"\"\"\n",
    "Высота дерева\n",
    "Вычислить высоту данного дерева.\n",
    "Вход. Корневое дерево с вершинами {0, . . . , n−1}, заданное\n",
    "как последовательность parent_0, . . . , parent_n−1, где parent_i — родитель i-й вершины.\n",
    "Выход. Высота дерева.\n",
    "\"\"\""
   ]
  },
  {
   "cell_type": "code",
   "execution_count": null,
   "metadata": {},
   "outputs": [],
   "source": [
    "import sys\n",
    "\n",
    "sys.setrecursionlimit(20000)\n",
    "tree = []\n",
    "dep = {} # ведем словарь для запоминания глубины, чтобы избежать повторных проходов\n",
    "depthmax = 0\n",
    "\n",
    "def depth (tree, dep, node, mem, d=1):\n",
    "    if node.p in dep.keys(): # если дошли до изученной части\n",
    "        dep[mem] = d + dep[node.p]\n",
    "        return dep[mem]   \n",
    "    if node.p == -1:\n",
    "        dep[mem] = d\n",
    "        return dep[mem]\n",
    "    else:\n",
    "        return depth(tree, dep, tree[node.p], mem, d=d+1)\n",
    "        \n",
    "class node:\n",
    "    def __init__(self, parent, value):\n",
    "        self.p = parent\n",
    "        self.v = value\n",
    "        \n",
    "n = int(input())\n",
    "data = list(map(int, input().split()))\n",
    "\n",
    "for i in range(n):\n",
    "    tree.append(node(data[i], i))\n",
    "\n",
    "for j in range(n):\n",
    "    d = depth(tree, dep, tree[j], tree[j].v)\n",
    "    if d > depthmax:\n",
    "        depthmax = d\n",
    "\n",
    "print(depthmax)"
   ]
  }
 ],
 "metadata": {
  "kernelspec": {
   "display_name": "Python 3",
   "language": "python",
   "name": "python3"
  },
  "language_info": {
   "codemirror_mode": {
    "name": "ipython",
    "version": 3
   },
   "file_extension": ".py",
   "mimetype": "text/x-python",
   "name": "python",
   "nbconvert_exporter": "python",
   "pygments_lexer": "ipython3",
   "version": "3.8.5"
  }
 },
 "nbformat": 4,
 "nbformat_minor": 4
}
