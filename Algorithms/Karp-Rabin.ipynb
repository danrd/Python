{
 "cells": [
  {
   "cell_type": "code",
   "execution_count": null,
   "metadata": {},
   "outputs": [],
   "source": [
    "\"\"\" Поиск образца в тексте\n",
    "Найти все вхождения строки Pattern в строку Text.\n",
    "Вход. Строки Pattern и Text.\n",
    "Выход. Все индексы i строки Text, начиная с которых строка Pattern входит в Text:\n",
    "Text[i..i + |Pattern| − 1] = Pattern\n",
    "\"\"\""
   ]
  },
  {
   "cell_type": "code",
   "execution_count": 4,
   "metadata": {},
   "outputs": [
    {
     "name": "stdout",
     "output_type": "stream",
     "text": [
      "pattern\n",
      "tern\n"
     ]
    },
    {
     "ename": "AssertionError",
     "evalue": "Паттерн не должен быть длиннее просматриваемого текста",
     "output_type": "error",
     "traceback": [
      "\u001b[1;31m---------------------------------------------------------------------------\u001b[0m",
      "\u001b[1;31mAssertionError\u001b[0m                            Traceback (most recent call last)",
      "\u001b[1;32m<ipython-input-4-e66249378e6d>\u001b[0m in \u001b[0;36m<module>\u001b[1;34m\u001b[0m\n\u001b[0;32m     10\u001b[0m \u001b[0mtext\u001b[0m \u001b[1;33m=\u001b[0m \u001b[0minput\u001b[0m\u001b[1;33m(\u001b[0m\u001b[1;33m)\u001b[0m\u001b[1;33m\u001b[0m\u001b[1;33m\u001b[0m\u001b[0m\n\u001b[0;32m     11\u001b[0m \u001b[0mres\u001b[0m \u001b[1;33m=\u001b[0m \u001b[1;33m[\u001b[0m\u001b[1;33m]\u001b[0m\u001b[1;33m\u001b[0m\u001b[1;33m\u001b[0m\u001b[0m\n\u001b[1;32m---> 12\u001b[1;33m \u001b[1;32massert\u001b[0m \u001b[0mlength\u001b[0m\u001b[1;33m<\u001b[0m\u001b[0mlen\u001b[0m\u001b[1;33m(\u001b[0m\u001b[0mtext\u001b[0m\u001b[1;33m)\u001b[0m\u001b[1;33m,\u001b[0m \u001b[1;34m\"Паттерн не должен быть длиннее просматриваемого текста\"\u001b[0m\u001b[1;33m\u001b[0m\u001b[1;33m\u001b[0m\u001b[0m\n\u001b[0m\u001b[0;32m     13\u001b[0m \u001b[1;33m\u001b[0m\u001b[0m\n\u001b[0;32m     14\u001b[0m \u001b[1;32mif\u001b[0m \u001b[0mpattern\u001b[0m \u001b[1;33m==\u001b[0m \u001b[0mtext\u001b[0m\u001b[1;33m[\u001b[0m\u001b[1;36m0\u001b[0m\u001b[1;33m:\u001b[0m\u001b[1;36m0\u001b[0m\u001b[1;33m+\u001b[0m\u001b[0mlength\u001b[0m\u001b[1;33m]\u001b[0m\u001b[1;33m:\u001b[0m \u001b[1;31m#смотрим самое начало для инициализации\u001b[0m\u001b[1;33m\u001b[0m\u001b[1;33m\u001b[0m\u001b[0m\n",
      "\u001b[1;31mAssertionError\u001b[0m: Паттерн не должен быть длиннее просматриваемого текста"
     ]
    }
   ],
   "source": [
    "\"\"\"\n",
    "сумма кодов элементов строки\n",
    "\"\"\"\n",
    "def hesh(text): \n",
    "    res = 0\n",
    "    for let in text:\n",
    "        res += ord(let)\n",
    "    return res\n",
    "\n",
    "pattern = input()\n",
    "length = len(pattern)\n",
    "hesh_pattern = hesh(pattern)\n",
    "text = input()\n",
    "res = []\n",
    "assert length<len(text), \"Паттерн не должен быть длиннее просматриваемого текста\"\n",
    "\n",
    "if pattern == text[0:0+length]: # смотрим самое начало для инициализации\n",
    "    res.append(0)\n",
    "\n",
    "hesh_cur = hesh(text[0:0+length]) # инициализация хэша    \n",
    "for i in range(1, len(text)-length+1):\n",
    "    hesh_cur = hesh_cur-ord(text[i-1])+ord(text[i+length-1]) # на каждом шаге довляем хэш нового символа справа и вычитаем хэшсамого левого\n",
    "    if hesh_cur == hesh_pattern: # если хэш сошелся - смотри на сами символы для проверки\n",
    "        if pattern == text[i:i+length]:\n",
    "            res.append(i)\n",
    "print(*res)"
   ]
  }
 ],
 "metadata": {
  "kernelspec": {
   "display_name": "Python 3",
   "language": "python",
   "name": "python3"
  },
  "language_info": {
   "codemirror_mode": {
    "name": "ipython",
    "version": 3
   },
   "file_extension": ".py",
   "mimetype": "text/x-python",
   "name": "python",
   "nbconvert_exporter": "python",
   "pygments_lexer": "ipython3",
   "version": "3.8.5"
  }
 },
 "nbformat": 4,
 "nbformat_minor": 4
}
