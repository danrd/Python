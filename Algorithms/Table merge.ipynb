{
 "cells": [
  {
   "cell_type": "code",
   "execution_count": null,
   "metadata": {},
   "outputs": [],
   "source": [
    "\"\"\"\n",
    "Формат входа. Первая строка содержит числа n и m — число таблиц\n",
    "и число запросов, соответственно. Вторая строка содержит \n",
    "n целых чисел r_1, . . . , r_n — размеры таблиц. \n",
    "Каждая из последующих m строк содержит два номера таблиц destination_i и source_i, \n",
    "которые необходимо объединить.\n",
    "Формат выхода. \n",
    "Для каждого из m запросов выведите максимальный размер таблицы после соответствующего объединения\n",
    "\"\"\""
   ]
  },
  {
   "cell_type": "code",
   "execution_count": 3,
   "metadata": {},
   "outputs": [
    {
     "name": "stdout",
     "output_type": "stream",
     "text": [
      "5 2\n",
      "1 2 3 4 5\n",
      "1 2\n",
      "5\n",
      "2 3\n",
      "6\n"
     ]
    }
   ],
   "source": [
    "# используем систему непересекающихся множеств\n",
    "class DSU:\n",
    "    def __init__(self):\n",
    "        self.parent = {}\n",
    "        self.vol = []\n",
    "        self.max = 0\n",
    "    \n",
    "    def make_set(self, v):\n",
    "        self.parent[v] = v\n",
    "        \n",
    "    def find_set(self, v):\n",
    "        if (v == self.parent[v]):\n",
    "            return v\n",
    "        self.parent[v] = self.find_set(self.parent[v])\n",
    "        return self.find_set(self.parent[v])\n",
    "        \n",
    "    def union_sets (self, a, b):\n",
    "        a = self.find_set(a)\n",
    "        b = self.find_set(b)\n",
    "        if (a!=b):\n",
    "            self.parent[b] = a\n",
    "            self.vol[a-1] += self.vol[b-1]\n",
    "            self.vol[b-1] = 0\n",
    "            if self.vol[a-1] > self.max:\n",
    "                self.max = self.vol[a-1]\n",
    "\n",
    "n, m = map(int, input().split())\n",
    "data = list(map(int, input().split()))\n",
    "\n",
    "d = DSU()\n",
    "d.vol = data\n",
    "d.max = max(data)\n",
    "\n",
    "for i in range(n):\n",
    "    d.make_set(i+1)\n",
    "    \n",
    "for _ in range(m):\n",
    "    dest, source = map(int, input().split())\n",
    "    d.union_sets(dest, source)\n",
    "    print(d.max)"
   ]
  }
 ],
 "metadata": {
  "kernelspec": {
   "display_name": "Python 3",
   "language": "python",
   "name": "python3"
  },
  "language_info": {
   "codemirror_mode": {
    "name": "ipython",
    "version": 3
   },
   "file_extension": ".py",
   "mimetype": "text/x-python",
   "name": "python",
   "nbconvert_exporter": "python",
   "pygments_lexer": "ipython3",
   "version": "3.8.5"
  }
 },
 "nbformat": 4,
 "nbformat_minor": 4
}
