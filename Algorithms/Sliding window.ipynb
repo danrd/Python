{
 "cells": [
  {
   "cell_type": "code",
   "execution_count": null,
   "metadata": {},
   "outputs": [],
   "source": [
    "\"\"\"\n",
    "Максимум в скользящем окне\n",
    "Найти максимум в каждом окне размера m данного массива чисел\n",
    "A[1 . . . n].\n",
    "Вход. Массив чисел A[1 . . . n] и число 1 ≤ m ≤ n.\n",
    "Выход. Максимум подмассива A[i . . . i + m − 1] для всех 1 ≤ i ≤ n − m + 1.\n",
    "\"\"\""
   ]
  },
  {
   "cell_type": "code",
   "execution_count": 12,
   "metadata": {},
   "outputs": [
    {
     "name": "stdout",
     "output_type": "stream",
     "text": [
      "7\n",
      "1 2 6 3 54 12 0\n",
      "3\n",
      "6 6 54 54 54\n"
     ]
    }
   ],
   "source": [
    "# в классе ведется два списка: входной и выходной. \n",
    "# элементами каждого являются кортежи (element, max) - каждый элемент знает максимум, \n",
    "# соответсвующий времени его обработки\n",
    "class window (list):\n",
    "    def __init__ (self, width, start):\n",
    "        self.inp = [] # входной список\n",
    "        self.out = [] # выходной список\n",
    "        self.memory = [] # храним максимумы по мере продвижения окна\n",
    "        self.maxinp = 0 # максимальное значение для входного списка\n",
    "        self.maxout = 0 # максимальное значение для выходного списка      \n",
    "        self.leninp = 0 # последовательность максимальных значений входного списка\n",
    "        self.lenout = width # последовательность максимальных значений выходного списка\n",
    "        self.width = width\n",
    "        for el in start: # заполняем входной список, запоминая максимумы\n",
    "            if el > self.maxinp:\n",
    "                self.maxinp = el\n",
    "            self.inp.append((el, self.maxinp))\n",
    "        for _ in range(width): # переводим часть элементов в выходной список, равный длине окна\n",
    "            el = self.inp.pop() # последний элемент из входного списка будет также и последним на выход в окне\n",
    "            if el[0] > self.maxout:\n",
    "                self.maxout = el[0]\n",
    "            self.out.append((el[0], self.maxout))\n",
    "\n",
    "    def append (self, element):\n",
    "        out = self.out.pop()\n",
    "        self.lenout += -1\n",
    "        if out[1] > self.maxinp:\n",
    "            self.memory.append(out[1])\n",
    "        else:\n",
    "            self.memory.append(self.maxinp)\n",
    "        if self.lenout == 0: # если вывели последний элемент из выходного списка\n",
    "            self.maxout = 0\n",
    "        if element > self.maxinp:\n",
    "            self.maxinp = element         \n",
    "        self.inp.append((element, self.maxinp))\n",
    "        self.leninp += 1\n",
    "        if self.leninp == self.width: # если во входном списке скопилось достаточно, то переводим в выходной\n",
    "            for _ in range(self.width):\n",
    "                el = self.inp.pop()\n",
    "                if el[0] > self.maxout:\n",
    "                    self.maxout = el[0]\n",
    "                self.out.append((el[0], self.maxout))\n",
    "            self.maxinp = 0\n",
    "            self.leninp = 0\n",
    "            self.lenout = self.width\n",
    "            \n",
    "    def print (self):\n",
    "        if self.maxinp > self.maxout: # перед выводом пополняем список максимумов, так как он меняется только при вызове метода append\n",
    "            self.memory.append(self.inp.pop()[1])\n",
    "        else:\n",
    "            self.memory.append(self.out.pop()[1])            \n",
    "        print (*self.memory)\n",
    "        \n",
    "               \n",
    "n = int(input())\n",
    "array = list(map(int, input().split()))\n",
    "m = int(input())\n",
    "\n",
    "w = window(m, array[0:m])\n",
    "\n",
    "for i in range(n-m):\n",
    "    w.append(array[i+m])\n",
    "   \n",
    "w.print()"
   ]
  },
  {
   "cell_type": "code",
   "execution_count": 10,
   "metadata": {},
   "outputs": [
    {
     "ename": "IndexError",
     "evalue": "list index out of range",
     "output_type": "error",
     "traceback": [
      "\u001b[1;31m---------------------------------------------------------------------------\u001b[0m",
      "\u001b[1;31mIndexError\u001b[0m                                Traceback (most recent call last)",
      "\u001b[1;32m<ipython-input-10-35fc65bddd6b>\u001b[0m in \u001b[0;36m<module>\u001b[1;34m\u001b[0m\n\u001b[0;32m      2\u001b[0m \u001b[0mw\u001b[0m \u001b[1;33m=\u001b[0m \u001b[0mwindow\u001b[0m\u001b[1;33m(\u001b[0m\u001b[1;36m3\u001b[0m\u001b[1;33m,\u001b[0m \u001b[0mx\u001b[0m\u001b[1;33m[\u001b[0m\u001b[1;36m0\u001b[0m\u001b[1;33m:\u001b[0m\u001b[1;36m3\u001b[0m\u001b[1;33m]\u001b[0m\u001b[1;33m)\u001b[0m\u001b[1;33m\u001b[0m\u001b[1;33m\u001b[0m\u001b[0m\n\u001b[0;32m      3\u001b[0m \u001b[1;32mfor\u001b[0m \u001b[0mi\u001b[0m \u001b[1;32min\u001b[0m \u001b[0mrange\u001b[0m\u001b[1;33m(\u001b[0m\u001b[1;36m4\u001b[0m\u001b[1;33m)\u001b[0m\u001b[1;33m:\u001b[0m\u001b[1;33m\u001b[0m\u001b[1;33m\u001b[0m\u001b[0m\n\u001b[1;32m----> 4\u001b[1;33m     \u001b[0mw\u001b[0m\u001b[1;33m.\u001b[0m\u001b[0mappend\u001b[0m\u001b[1;33m(\u001b[0m\u001b[0marray\u001b[0m\u001b[1;33m[\u001b[0m\u001b[0mi\u001b[0m\u001b[1;33m+\u001b[0m\u001b[1;36m3\u001b[0m\u001b[1;33m]\u001b[0m\u001b[1;33m)\u001b[0m\u001b[1;33m\u001b[0m\u001b[1;33m\u001b[0m\u001b[0m\n\u001b[0m\u001b[0;32m      5\u001b[0m \u001b[0mw\u001b[0m\u001b[1;33m.\u001b[0m\u001b[0mprint\u001b[0m\u001b[1;33m(\u001b[0m\u001b[1;33m)\u001b[0m\u001b[1;33m\u001b[0m\u001b[1;33m\u001b[0m\u001b[0m\n",
      "\u001b[1;31mIndexError\u001b[0m: list index out of range"
     ]
    }
   ],
   "source": [
    "x = [1, 2, 6, 3, 54, 12, 0]\n",
    "w = window(3, x[0:3])\n",
    "for i in range(4):\n",
    "    w.append(array[i+3])\n",
    "w.print()"
   ]
  }
 ],
 "metadata": {
  "kernelspec": {
   "display_name": "Python 3",
   "language": "python",
   "name": "python3"
  },
  "language_info": {
   "codemirror_mode": {
    "name": "ipython",
    "version": 3
   },
   "file_extension": ".py",
   "mimetype": "text/x-python",
   "name": "python",
   "nbconvert_exporter": "python",
   "pygments_lexer": "ipython3",
   "version": "3.8.5"
  }
 },
 "nbformat": 4,
 "nbformat_minor": 4
}
