{
 "cells": [
  {
   "cell_type": "code",
   "execution_count": null,
   "metadata": {},
   "outputs": [],
   "source": [
    "\"\"\"\n",
    "Даны число ступенек лестницы и целые числа, которыми помечены ступеньки. \n",
    "Найдите максимальную сумму, которую можно получить, \n",
    "идя по лестнице снизу вверх (от нулевой до n-й ступеньки), \n",
    "каждый раз поднимаясь на одну или две ступеньки.\n",
    "\"\"\""
   ]
  },
  {
   "cell_type": "code",
   "execution_count": 2,
   "metadata": {},
   "outputs": [
    {
     "name": "stdout",
     "output_type": "stream",
     "text": [
      "5\n",
      "1 -2 4 5 8\n",
      "18\n"
     ]
    }
   ],
   "source": [
    "n = int(input())\n",
    "stairs = list(map(int, input().split()))\n",
    "first, second = 0, 0\n",
    "# идем по значениям ступенек и смотрим откуда выгоднее попасть: с предыдущей или предпредыдущей\n",
    "for i in range (2, n+2):\n",
    "    third = max(first+stairs[i-2], second+stairs[i-2])\n",
    "    first, second = second, third\n",
    "print(third)"
   ]
  }
 ],
 "metadata": {
  "kernelspec": {
   "display_name": "Python 3",
   "language": "python",
   "name": "python3"
  },
  "language_info": {
   "codemirror_mode": {
    "name": "ipython",
    "version": 3
   },
   "file_extension": ".py",
   "mimetype": "text/x-python",
   "name": "python",
   "nbconvert_exporter": "python",
   "pygments_lexer": "ipython3",
   "version": "3.8.5"
  }
 },
 "nbformat": 4,
 "nbformat_minor": 4
}
