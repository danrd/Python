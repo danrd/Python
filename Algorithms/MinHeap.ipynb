{
 "cells": [
  {
   "cell_type": "code",
   "execution_count": null,
   "metadata": {},
   "outputs": [],
   "source": [
    "# Построение кучи\n",
    "# Переставить элементы заданного массива чисел так, чтобы он удовлетворял свойству мин-кучи.\n",
    "# Вход. Массив чисел A[0 . . . n − 1].\n",
    "# Выход. Переставить элементы массива так, чтобы выполнялись неравенства A[i] ≤ A[2i + 1] \n",
    "# и A[i] ≤ A[2i + 2] для всех i.\n",
    "# Формат выхода. Первая строка выхода должна содержать число обменов m\n",
    "# Каждая из последующих m строк должна задавать обмен двух элементов массива A. \n",
    "# Каждый обмен задаётся парой различных индексов "
   ]
  },
  {
   "cell_type": "code",
   "execution_count": 3,
   "metadata": {},
   "outputs": [
    {
     "name": "stdout",
     "output_type": "stream",
     "text": [
      "4\n",
      "5 4 3 2\n",
      "3\n",
      "1 3\n",
      "0 1\n",
      "1 3\n"
     ]
    }
   ],
   "source": [
    "class MinHeap: # минкуча с нумерацией элементов с 0\n",
    "    def __init__(self):\n",
    "        self.heap_list = []\n",
    "        self.current_size = 0\n",
    "        self.counter = 0\n",
    "        self.cash = []\n",
    "        \n",
    "    def Insert(self, k): # вставляем элемент в конец и просеиваем\n",
    "        self.heap_list.append(k)\n",
    "        self.current_size += 1\n",
    "        self.sift_up(self.current_size-1)\n",
    " \n",
    "    def sift_up(self, i):\n",
    "        while (i+1) // 2 > 0: # покуда не доходим до индекса 0\n",
    "            if self.heap_list[i] < self.heap_list[(i-1)//2]: # сравниваем с предком и переставляем при необходимости\n",
    "                self.heap_list[i], self.heap_list[(i-1)//2] = self.heap_list[(i-1)//2], self.heap_list[i]\n",
    "            i = (i-1) // 2\n",
    "\n",
    "    def sift_down(self, i):\n",
    "        while (i*2+1) <= self.current_size - 1: # покуда есть хотя бы 1 потомок\n",
    "            mc = self.min_child(i) # ищем из них меньшего\n",
    "            if self.heap_list[i] > self.heap_list[mc]: # и меняем, если просеиваемый элемент больше\n",
    "                self.cash.append(sorted([i, mc]))\n",
    "                self.counter += 1\n",
    "                self.heap_list[i], self.heap_list[mc] = self.heap_list[mc], self.heap_list[i]\n",
    "            i = mc\n",
    "               \n",
    "    def min_child(self, i):\n",
    "        if (i*2) + 1 == self.current_size - 1: # если 1 наследник, то он меньший\n",
    "            return (i*2) + 1\n",
    "        else:\n",
    "            if self.heap_list[i*2+1] < self.heap_list[(i*2)+2]:\n",
    "                return (i*2) + 1\n",
    "            else:\n",
    "                return (i*2) + 2\n",
    " \n",
    "    def delete_min(self): # выводим и удаляем минимум\n",
    "        if len(self.heap_list) == 0:\n",
    "            return 'Empty heap'\n",
    "        if len(self.heap_list) == 1:\n",
    "            root = self.heap_list[0]\n",
    "            self.heap_list = []\n",
    "            self.current_size = 0            \n",
    "        else: # меняем корень и последний элемент\n",
    "            self.heap_list[0], self.heap_list[self.current_size-1] = self.heap_list[self.current_size-1], self.heap_list[0]\n",
    "            root = self.heap_list.pop()   \n",
    "            self.current_size -= 1         \n",
    "            self.sift_down(0) # просеиваем новый корень вниз\n",
    "        return root\n",
    "    \n",
    "    def ExtractMin(self):\n",
    "        return self.heap_list[0]\n",
    "    \n",
    "    def heapify(self):\n",
    "        for i in range(self.current_size//2-1, -1, -1): # просеиваем вниз, начиная с первого элемента с наследниками\n",
    "            self.sift_down(i)\n",
    "\n",
    "n = int(input())\n",
    "data = list(map(int, input().split()))\n",
    "\n",
    "heap = MinHeap()\n",
    "heap.heap_list = data\n",
    "heap.current_size = n\n",
    "heap.heapify()\n",
    "\n",
    "print(heap.counter)\n",
    "for el in heap.cash:\n",
    "    print(*el)"
   ]
  }
 ],
 "metadata": {
  "kernelspec": {
   "display_name": "Python 3",
   "language": "python",
   "name": "python3"
  },
  "language_info": {
   "codemirror_mode": {
    "name": "ipython",
    "version": 3
   },
   "file_extension": ".py",
   "mimetype": "text/x-python",
   "name": "python",
   "nbconvert_exporter": "python",
   "pygments_lexer": "ipython3",
   "version": "3.8.5"
  }
 },
 "nbformat": 4,
 "nbformat_minor": 4
}
