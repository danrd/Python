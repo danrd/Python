{
 "cells": [
  {
   "cell_type": "code",
   "execution_count": null,
   "metadata": {},
   "outputs": [],
   "source": [
    "# сортировка подсчетом\n",
    "n = int(input()) # число входных элементов \n",
    "inp = list(map(int, input().split())) # сами элементы\n",
    "max_el = max(inp) # находим максимальное значение для создание списка необходимой величины\n",
    "result = [0 for i in range(max_el)]\n",
    "out = []\n",
    "\n",
    "for number in inp: # проходим по числам и увеличиваем соответсвующий счетчик\n",
    "    result[number-1] += 1\n",
    "\n",
    "for i in range(max_el):\n",
    "    if result[i] > 0: # если элемент встречался, то добавляем в результат его в количесте значения счетчика\n",
    "        for _ in range(result[i]):\n",
    "            out.append(i+1)\n",
    "print(*out)"
   ]
  }
 ],
 "metadata": {
  "kernelspec": {
   "display_name": "Python 3",
   "language": "python",
   "name": "python3"
  },
  "language_info": {
   "codemirror_mode": {
    "name": "ipython",
    "version": 3
   },
   "file_extension": ".py",
   "mimetype": "text/x-python",
   "name": "python",
   "nbconvert_exporter": "python",
   "pygments_lexer": "ipython3",
   "version": "3.8.5"
  }
 },
 "nbformat": 4,
 "nbformat_minor": 4
}
