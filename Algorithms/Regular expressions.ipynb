{
 "cells": [
  {
   "cell_type": "code",
   "execution_count": null,
   "metadata": {},
   "outputs": [],
   "source": [
    "#Вам дана последовательность строк.\n",
    "#Выведите строки, содержащие \"cat\" в качестве подстроки хотя бы два раза.\n",
    "\n",
    "Sample Input:\n",
    "\n",
    "catcat\n",
    "cat and cat\n",
    "catac\n",
    "cat\n",
    "ccaatt\n",
    "\n",
    "Sample Output:\n",
    "\n",
    "catcat\n",
    "cat and cat"
   ]
  },
  {
   "cell_type": "code",
   "execution_count": null,
   "metadata": {},
   "outputs": [],
   "source": [
    "import sys\n",
    "import re\n",
    "\n",
    "pattern = r'(.*cat.*){2,}'\n",
    "for line in sys.stdin:\n",
    "    line = line.rstrip()\n",
    "    if re.match(pattern, line) == None:\n",
    "        continue\n",
    "    else:\n",
    "        print(line)"
   ]
  },
  {
   "cell_type": "code",
   "execution_count": null,
   "metadata": {},
   "outputs": [],
   "source": []
  },
  {
   "cell_type": "code",
   "execution_count": null,
   "metadata": {},
   "outputs": [],
   "source": [
    "#Вам дана последовательность строк.\n",
    "#Выведите строки, содержащие \"cat\" в качестве слова.\n",
    "\n",
    "Sample Input:\n",
    "\n",
    "cat\n",
    "catapult and cat\n",
    "catcat\n",
    "concat\n",
    "Cat\n",
    "\"cat\"\n",
    "!cat?\n",
    "\n",
    "Sample Output:\n",
    "\n",
    "cat\n",
    "catapult and cat\n",
    "\"cat\"\n",
    "!cat?"
   ]
  },
  {
   "cell_type": "code",
   "execution_count": null,
   "metadata": {},
   "outputs": [],
   "source": [
    "import sys\n",
    "import re\n",
    "\n",
    "pattern = r'(\\bcat\\b)'\n",
    "for line in sys.stdin:\n",
    "    line = line.rstrip()\n",
    "    if re.search(pattern, line) == None:\n",
    "        continue\n",
    "    else:\n",
    "        print(line)"
   ]
  },
  {
   "cell_type": "code",
   "execution_count": null,
   "metadata": {},
   "outputs": [],
   "source": []
  },
  {
   "cell_type": "code",
   "execution_count": null,
   "metadata": {},
   "outputs": [],
   "source": [
    "#Вам дана последовательность строк.\n",
    "#Выведите строки, содержащие две буквы \"z﻿\", между которыми ровно три символа.\n",
    "\n",
    "Sample Input:\n",
    "\n",
    "zabcz\n",
    "zzz\n",
    "zzxzz\n",
    "zz\n",
    "zxz\n",
    "zzxzxxz\n",
    "\n",
    "Sample Output:\n",
    "\n",
    "zabcz\n",
    "zzxzz"
   ]
  },
  {
   "cell_type": "code",
   "execution_count": null,
   "metadata": {},
   "outputs": [],
   "source": [
    "import sys\n",
    "import re\n",
    "\n",
    "pattern = r'z.{3}z'\n",
    "for line in sys.stdin:\n",
    "    line = line.rstrip()\n",
    "    if re.search(pattern, line) == None:\n",
    "        continue\n",
    "    else:\n",
    "        print(line)"
   ]
  },
  {
   "cell_type": "code",
   "execution_count": null,
   "metadata": {},
   "outputs": [],
   "source": []
  },
  {
   "cell_type": "code",
   "execution_count": null,
   "metadata": {},
   "outputs": [],
   "source": [
    "#Вам дана последовательность строк.\n",
    "#Выведите строки, содержащие обратный слеш \"\\﻿\".\n",
    "\n",
    "Sample Input:\n",
    "\n",
    "\\w denotes word character\n",
    "No slashes here\n",
    "\n",
    "Sample Output:\n",
    "\n",
    "\\w denotes word character"
   ]
  },
  {
   "cell_type": "code",
   "execution_count": null,
   "metadata": {},
   "outputs": [],
   "source": [
    "import sys\n",
    "import re\n",
    "\n",
    "pattern = r'\\\\'\n",
    "for line in sys.stdin:\n",
    "    line = line.rstrip()\n",
    "    if re.search(pattern, line) == None:\n",
    "        continue\n",
    "    else:\n",
    "        print(line)"
   ]
  },
  {
   "cell_type": "code",
   "execution_count": null,
   "metadata": {},
   "outputs": [],
   "source": []
  },
  {
   "cell_type": "code",
   "execution_count": null,
   "metadata": {},
   "outputs": [],
   "source": [
    "#Вам дана последовательность строк.\n",
    "#Выведите строки, содержащие слово, состоящее из двух одинаковых частей (тандемный повтор).\n",
    "\n",
    "Sample Input:\n",
    "\n",
    "blabla is a tandem repetition\n",
    "123123 is good too\n",
    "go go\n",
    "aaa\n",
    "\n",
    "Sample Output:\n",
    "\n",
    "blabla is a tandem repetition\n",
    "123123 is good too"
   ]
  },
  {
   "cell_type": "code",
   "execution_count": null,
   "metadata": {},
   "outputs": [],
   "source": [
    "import sys\n",
    "import re\n",
    "\n",
    "pattern = r'\\b(\\w{1,})\\1\\b'\n",
    "for line in sys.stdin:\n",
    "    line = line.rstrip()\n",
    "    if re.search(pattern, line) == None:\n",
    "        continue\n",
    "    else:\n",
    "        print(line)"
   ]
  },
  {
   "cell_type": "code",
   "execution_count": null,
   "metadata": {},
   "outputs": [],
   "source": []
  },
  {
   "cell_type": "code",
   "execution_count": null,
   "metadata": {},
   "outputs": [],
   "source": [
    "#Вам дана последовательность строк.\n",
    "#В каждой строке замените все вхождения подстроки \"human\" на подстроку \"computer\"﻿ и выведите полученные строки.\n",
    "\n",
    "Sample Input:\n",
    "\n",
    "I need to understand the human mind\n",
    "humanity\n",
    "\n",
    "Sample Output:\n",
    "\n",
    "I need to understand the computer mind\n",
    "computerity"
   ]
  },
  {
   "cell_type": "code",
   "execution_count": null,
   "metadata": {},
   "outputs": [],
   "source": [
    "import sys\n",
    "import re\n",
    "\n",
    "x = \"human\"\n",
    "y = \"computer\"\n",
    "for line in sys.stdin:\n",
    "    line = line.rstrip()\n",
    "    print(re.sub(x, y, line))"
   ]
  },
  {
   "cell_type": "code",
   "execution_count": null,
   "metadata": {},
   "outputs": [],
   "source": []
  },
  {
   "cell_type": "code",
   "execution_count": null,
   "metadata": {},
   "outputs": [],
   "source": [
    "#Вам дана последовательность строк.\n",
    "#В каждой строке замените первое вхождение слова, состоящего только из латинских букв \"a\" (регистр не важен), на слово \"argh\".\n",
    "\n",
    "Примечание:\n",
    "Обратите внимание на параметр count у функции sub.\n",
    "\n",
    "Sample Input:\n",
    "\n",
    "There’ll be no more \"Aaaaaaaaaaaaaaa\"\n",
    "AaAaAaA AaAaAaA\n",
    "\n",
    "Sample Output:\n",
    "\n",
    "There’ll be no more \"argh\"\n",
    "argh AaAaAaA"
   ]
  },
  {
   "cell_type": "code",
   "execution_count": null,
   "metadata": {},
   "outputs": [],
   "source": [
    "import sys\n",
    "import re\n",
    "\n",
    "pattern = r\"\\b[a|A]{1,}\\b\"\n",
    "y = \"argh\"\n",
    "for line in sys.stdin:\n",
    "    line = line.rstrip()\n",
    "    x =  re.findall(pattern, line)\n",
    "    print(re.sub(x[0], y, line, count=1))"
   ]
  },
  {
   "cell_type": "code",
   "execution_count": null,
   "metadata": {},
   "outputs": [],
   "source": []
  },
  {
   "cell_type": "code",
   "execution_count": null,
   "metadata": {},
   "outputs": [],
   "source": [
    "#Вам дана последовательность строк.\n",
    "#В каждой строке поменяйте местами две первых буквы в каждом слове, состоящем хотя бы из двух букв.\n",
    "#Буквой считается символ из группы \\w.\n",
    "\n",
    "Sample Input:\n",
    "\n",
    "this is a text\n",
    "\"this' !is. ?n1ce,\n",
    "\n",
    "Sample Output:\n",
    "\n",
    "htis si a etxt\n",
    "\"htis' !si. ?1nce,"
   ]
  },
  {
   "cell_type": "code",
   "execution_count": null,
   "metadata": {},
   "outputs": [],
   "source": [
    "import sys\n",
    "import re\n",
    "\n",
    "for line in sys.stdin:\n",
    "    line = line.rstrip()\n",
    "    print(re.sub(r'(\\b\\w)(\\w)', r'\\2\\1', line))"
   ]
  },
  {
   "cell_type": "code",
   "execution_count": null,
   "metadata": {},
   "outputs": [],
   "source": []
  },
  {
   "cell_type": "code",
   "execution_count": null,
   "metadata": {},
   "outputs": [],
   "source": [
    "#Вам дана последовательность строк.\n",
    "#В каждой строке замените все вхождения нескольких одинаковых букв на одну букву.\n",
    "#Буквой считается символ из группы \\w.\n",
    "\n",
    "Sample Input:\n",
    "\n",
    "attraction\n",
    "buzzzz\n",
    "\n",
    "Sample Output:\n",
    "\n",
    "atraction\n",
    "buz"
   ]
  },
  {
   "cell_type": "code",
   "execution_count": null,
   "metadata": {},
   "outputs": [],
   "source": [
    "import sys\n",
    "import re\n",
    "\n",
    "for line in sys.stdin:\n",
    "    line = line.rstrip()\n",
    "    print(re.sub(r'(\\w)\\1{1,}', r'\\1', line))"
   ]
  }
 ],
 "metadata": {
  "kernelspec": {
   "display_name": "Python 3",
   "language": "python",
   "name": "python3"
  },
  "language_info": {
   "codemirror_mode": {
    "name": "ipython",
    "version": 3
   },
   "file_extension": ".py",
   "mimetype": "text/x-python",
   "name": "python",
   "nbconvert_exporter": "python",
   "pygments_lexer": "ipython3",
   "version": "3.8.5"
  }
 },
 "nbformat": 4,
 "nbformat_minor": 4
}
